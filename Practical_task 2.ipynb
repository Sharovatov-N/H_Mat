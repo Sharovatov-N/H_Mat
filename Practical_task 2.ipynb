{
 "cells": [
  {
   "cell_type": "markdown",
   "metadata": {},
   "source": [
    "### Практические задания к уроку 2"
   ]
  },
  {
   "cell_type": "code",
   "execution_count": 1,
   "metadata": {},
   "outputs": [],
   "source": [
    "import numpy as np\n",
    "from matplotlib import pyplot as plt"
   ]
  },
  {
   "cell_type": "markdown",
   "metadata": {},
   "source": [
    "#### 1. Задание"
   ]
  },
  {
   "cell_type": "markdown",
   "metadata": {},
   "source": [
    "Напишите уравнение параболы, проходящей через три точки (x,y):<br>\n",
    "(1,2), (3,10), (5,1)"
   ]
  },
  {
   "cell_type": "markdown",
   "metadata": {},
   "source": [
    "Для решения этой задачи необходимо найти коэффициенты 'a', 'b', 'c' квадратного уравнения вида y = ax<sup>2</sup> + bx + c.<br>\n",
    "Построим систему уравнений, заменяя x, y на наши значения:<br>\n",
    "2 = a + b + c<br>\n",
    "10 = 9a + 3b + c<br>\n",
    "1 = 25a + 5b +c<br>\n",
    "Решая эту систему уравнений мы находим что:<br>\n",
    "a = - 17/8<br>\n",
    "b = 25/2<br>\n",
    "c = - 67/8<br>\n",
    "И тогда уравнение параболы, проходящей через наши три заданные точки (x,y) будет иметь вид:<br>\n",
    "* *y = (-17/8)x<sup>2</sup> + (25/2)x + (-67/8)*"
   ]
  },
  {
   "cell_type": "markdown",
   "metadata": {},
   "source": [
    "Построим график (не по заданию, а для души)"
   ]
  },
  {
   "cell_type": "code",
   "execution_count": 2,
   "metadata": {},
   "outputs": [],
   "source": [
    "x = np.linspace(0, 6, 101)\n",
    "y = (-17/8)*x**2 + (25/2)*x + (-67/8)"
   ]
  },
  {
   "cell_type": "code",
   "execution_count": 3,
   "metadata": {},
   "outputs": [
    {
     "data": {
      "image/png": "[encoded data removed]",
      "text/plain": [
       "<Figure size 432x288 with 1 Axes>"
      ]
     },
     "metadata": {
      "needs_background": "light"
     },
     "output_type": "display_data"
    }
   ],
   "source": [
    "plt.plot(x, y, color='g')\n",
    "\n",
    "plt.xlabel('Значения x')\n",
    "\n",
    "plt.ylabel('Значения y')\n",
    "\n",
    "plt.grid()\n",
    "\n",
    "plt.show()"
   ]
  },
  {
   "cell_type": "markdown",
   "metadata": {},
   "source": [
    "#### 2. Задание"
   ]
  },
  {
   "cell_type": "markdown",
   "metadata": {},
   "source": [
    "Известно, что свежий огурец на 99% состоит из воды. Месяц назад взвесили мешок со\n",
    "свежими огурцами. Получилось, что огурцов ровно 100 кг. Мешок убрали, а через\n",
    "месяц снова взвесили. Огурцы за это время усохли, и теперь вода составляет уже\n",
    "только 98% их веса. Сколько теперь (в кг) весят огурцы?"
   ]
  },
  {
   "cell_type": "markdown",
   "metadata": {},
   "source": [
    "*Решение:*<br>\n",
    "Было: 99% + 1% = 100% => 99 кг(вода) + 1 кг(твердая часть) = 100 кг св. огурцов<br>\n",
    "Стало: 98% + 2% = 100% => 2% = 1 кг (твердая часть - неизменна) => 98% = 49 кг(вода) => 49 кг + 1 кг = 50 кг не св. огурцов"
   ]
  },
  {
   "cell_type": "markdown",
   "metadata": {},
   "source": [
    "#### 3. Задание. Определение логарифма. Решить уравнения:"
   ]
  },
  {
   "cell_type": "markdown",
   "metadata": {},
   "source": [
    "2<sup>x</sup> = 256 => log<sub>2</sub>256 = 8 => x = 8<br>\n",
    "2<sup>x</sup> = 300 => log<sub>2</sub>300 = 8,22881 => x = 8,22881<br>\n",
    "log<sub>8</sub>2<sup>8x - 4</sup> = 4 => 8<sup>4</sup> = 2<sup>8x - 4</sup> => 2<sup>12</sup> = 2<sup>8x - 4</sup> => 12 = 8x - 4 => x = 2<br>\n",
    "3<sup>log<sub>9</sub>(5x - 5)</sup> = 5 (ОДЗ x != 1) => (5x - 5)<sup>log<sub>9</sub>3</sup> = 5 => (5x - 5)<sup>1/2</sup> = 5 => 5x -5 = 25 => x = 6<br>\n",
    "x<sup>log<sub>3</sub>x + 1</sup> = 9 (ОДЗ x > 0, x != 1) => x<sup>log<sub>3</sub>3x</sup> = 9 => log<sub>x</sub>9 = log<sub>3</sub>3x => x = 3"
   ]
  },
  {
   "cell_type": "markdown",
   "metadata": {},
   "source": [
    "#### 4. Задание Свойства логарифмов. Вычислить:"
   ]
  },
  {
   "cell_type": "markdown",
   "metadata": {},
   "source": [
    "log<sub>4</sub>16 = 2<br>\n",
    "log<sub>5</sub>(1/25) = 1/2<br>\n",
    "log<sub>25</sub>5 = 1/2<br>\n",
    "log<sub>3</sub>(27)<sup>1/2</sup> = 3/2<br>\n",
    "log<sub>2</sub>12 - log<sub>2</sub>3 = log<sub>2</sub>(12/3) = 2<br>\n",
    "log<sub>6</sub>12 + log<sub>6</sub>3 = log<sub>6</sub>(12\\*3) = 2<br>\n",
    "e<sup>ln5</sup> = 5<br>\n",
    "log<sub>2</sub>225 / log<sub>2</sub>15 = log<sub>15</sub>225 = 2<br>\n",
    "log<sub>4</sub>32 - log<sub>0,1</sub>10 = 3 - 1 = 2<br>\n",
    "9<sup>log<sub>3</sub>(5)<sup>1/2</sup></sup> = ((5)<sup>1/2</sup>)<sup>log<sub>3</sub>9</sup> = ((5)<sup>1/2</sup>)<sup>2</sup> = 5<br>"
   ]
  },
  {
   "cell_type": "code",
   "execution_count": null,
   "metadata": {},
   "outputs": [],
   "source": []
  }
 ],
 "metadata": {
  "kernelspec": {
   "display_name": "Python 3",
   "language": "python",
   "name": "python3"
  },
  "language_info": {
   "codemirror_mode": {
    "name": "ipython",
    "version": 3
   },
   "file_extension": ".py",
   "mimetype": "text/x-python",
   "name": "python",
   "nbconvert_exporter": "python",
   "pygments_lexer": "ipython3",
   "version": "3.7.6"
  }
 },
 "nbformat": 4,
 "nbformat_minor": 4
}
