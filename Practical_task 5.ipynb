{
 "cells": [
  {
   "cell_type": "markdown",
   "metadata": {},
   "source": [
    "### Практические задания к уроку 5"
   ]
  },
  {
   "cell_type": "markdown",
   "metadata": {},
   "source": [
    "#### 1. "
   ]
  },
  {
   "cell_type": "markdown",
   "metadata": {},
   "source": [
    "Напишите код, моделирующий выпадение поля в рулетке (с учетом поля зеро)."
   ]
  },
  {
   "cell_type": "code",
   "execution_count": 1,
   "metadata": {},
   "outputs": [
    {
     "name": "stdout",
     "output_type": "stream",
     "text": [
      "\n",
      "2 - черное\n",
      "\n",
      "19 - красное\n",
      "\n",
      "2 - черное\n",
      "\n",
      "10 - черное\n",
      "\n",
      "9 - красное\n",
      "\n",
      "14 - красное\n",
      "\n",
      "3 - красное\n",
      "\n",
      "35 - черное\n",
      "\n",
      "8 - черное\n",
      "\n",
      "18 - красное\n"
     ]
    }
   ],
   "source": [
    "import numpy as np\n",
    "n = 37\n",
    "for i in range(0, 10):\n",
    "    a = input()\n",
    "    x = np.random.randint(0, n)\n",
    "    red = [1, 3, 5, 7, 9, 12, 14, 16, 18, 19, 21, 23, 25, 27, 30, 32, 34, 36]\n",
    "    black = [2, 4, 6, 8, 10, 11, 13, 15, 17, 20, 22, 24, 26, 28, 29, 31, 33, 35]\n",
    "    if x in red:\n",
    "        print(f'{x} - красное')\n",
    "    elif x in black:\n",
    "        print(f'{x} - черное')\n",
    "    else:\n",
    "        print(f'{x} - zero - Да Вы везунчик')"
   ]
  },
  {
   "cell_type": "markdown",
   "metadata": {},
   "source": [
    "#### 2. "
   ]
  },
  {
   "cell_type": "markdown",
   "metadata": {},
   "source": [
    "* Напишите код, проверяющий любую из теорем сложения или умножения вероятности на примере рулетки или подбрасывания монетки."
   ]
  },
  {
   "cell_type": "code",
   "execution_count": 2,
   "metadata": {},
   "outputs": [
    {
     "name": "stdout",
     "output_type": "stream",
     "text": [
      "Вероятность исхода \"красное\" ИЛИ \"черное\" равно 0.972972972972973\n",
      "Вероятность исхода \"zero\" равно 0.02702702702702703\n"
     ]
    }
   ],
   "source": [
    "p = (len(red) / n) + (len(black) / n)\n",
    "p_z = 1/n\n",
    "print(f'Вероятность исхода \"красное\" ИЛИ \"черное\" равно {p}\\nВероятность исхода \"zero\" равно {p_z}')"
   ]
  },
  {
   "cell_type": "markdown",
   "metadata": {},
   "source": [
    "* Сгенерируйте десять выборок случайных чисел х0, …, х9. и постройте гистограмму распределения случайной суммы х0+х1+ …+ х9."
   ]
  },
  {
   "cell_type": "code",
   "execution_count": 3,
   "metadata": {},
   "outputs": [
    {
     "data": {
      "image/png": "[encoded data removed]",
      "text/plain": [
       "<Figure size 432x288 with 1 Axes>"
      ]
     },
     "metadata": {
      "needs_background": "light"
     },
     "output_type": "display_data"
    },
    {
     "data": {
      "text/plain": [
       "[3.0690610472168,\n",
       " 6.854956089424981,\n",
       " 6.067767598452401,\n",
       " 5.625912107489331,\n",
       " 3.7303640130013576,\n",
       " 5.258471282638513,\n",
       " 5.06653315749256,\n",
       " 5.280811031646198,\n",
       " 5.104749992352234,\n",
       " 5.094504602865406]"
      ]
     },
     "execution_count": 3,
     "metadata": {},
     "output_type": "execute_result"
    }
   ],
   "source": [
    "from matplotlib import pyplot as plt\n",
    "%matplotlib inline\n",
    "\n",
    "x0 = np.random.rand(10)\n",
    "x1 = np.random.rand(10)\n",
    "x2 = np.random.rand(10)\n",
    "x3 = np.random.rand(10)\n",
    "x4 = np.random.rand(10)\n",
    "x5 = np.random.rand(10)\n",
    "x6 = np.random.rand(10)\n",
    "x7 = np.random.rand(10)\n",
    "x8 = np.random.rand(10)\n",
    "x9 = np.random.rand(10)\n",
    "\n",
    "s = [sum(x0), sum(x1), sum(x2), sum(x3), sum(x4), sum(x5), sum(x6), sum(x7), sum(x8), sum(x9)]\n",
    "\n",
    "plt.hist(s, bins=5, alpha=0.5, ec='black', color='#7d7f7d')\n",
    "\n",
    "plt.xlabel('x')\n",
    "plt.ylabel('Probability')\n",
    "plt.title('Histogram')\n",
    "plt.show()\n",
    "\n",
    "s"
   ]
  },
  {
   "cell_type": "markdown",
   "metadata": {},
   "source": [
    "#### 3."
   ]
  },
  {
   "cell_type": "markdown",
   "metadata": {},
   "source": [
    "* Дополните код Монте-Карло последовательности независимых испытаний расчетом соответствующих вероятностей (через биномиальное распределение) и сравните результаты."
   ]
  },
  {
   "cell_type": "code",
   "execution_count": 4,
   "metadata": {},
   "outputs": [
    {
     "name": "stdout",
     "output_type": "stream",
     "text": [
      "3762 10000 0.3762\n"
     ]
    }
   ],
   "source": [
    "k, n = 0, 10000\n",
    "\n",
    "a = np.random.randint(0, 2, n)\n",
    "b = np.random.randint(0, 2, n)\n",
    "c = np.random.randint(0, 2, n)\n",
    "d = np.random.randint(0, 2, n)\n",
    "x = a + b + c + d\n",
    "\n",
    "for i in range(0, n):\n",
    "    if x[i] == 2:\n",
    "        k = k + 1\n",
    "\n",
    "print(k, n, k/n)"
   ]
  },
  {
   "cell_type": "markdown",
   "metadata": {},
   "source": [
    "Расчетаем вероятность k=2 успехов для n=4 испытаний по формуле Бернулли:"
   ]
  },
  {
   "cell_type": "code",
   "execution_count": 5,
   "metadata": {},
   "outputs": [
    {
     "name": "stdout",
     "output_type": "stream",
     "text": [
      "Вероятность 2 успехов для 4 испытаний равна 0.375\n"
     ]
    }
   ],
   "source": [
    "import math\n",
    "\n",
    "k = 2\n",
    "n = 4\n",
    "\n",
    "p_k = (math.factorial(n) / (math.factorial(k) * math.factorial(n - k))) / 2 ** n \n",
    "\n",
    "print(f'Вероятность {k} успехов для {n} испытаний равна {p_k}')"
   ]
  },
  {
   "cell_type": "markdown",
   "metadata": {},
   "source": [
    "* Повторите расчеты биномиальных коэффициентов и вероятностей k успехов в последовательности из n независимых испытаний, взяв другие значения n и k."
   ]
  },
  {
   "cell_type": "code",
   "execution_count": 6,
   "metadata": {},
   "outputs": [
    {
     "name": "stdout",
     "output_type": "stream",
     "text": [
      "3163 10000 0.3163\n"
     ]
    }
   ],
   "source": [
    "k, n = 0, 10000\n",
    "\n",
    "a = np.random.randint(0, 2, n)\n",
    "b = np.random.randint(0, 2, n)\n",
    "c = np.random.randint(0, 2, n)\n",
    "d = np.random.randint(0, 2, n)\n",
    "e = np.random.randint(0, 2, n)\n",
    "x = a + b + c + d + e\n",
    "\n",
    "for i in range(0, n):\n",
    "    if x[i] == 3:\n",
    "        k = k + 1\n",
    "\n",
    "print(k, n, k/n)"
   ]
  },
  {
   "cell_type": "code",
   "execution_count": 7,
   "metadata": {},
   "outputs": [
    {
     "name": "stdout",
     "output_type": "stream",
     "text": [
      "Вероятность 3 успехов для 5 испытаний равна 0.3125\n"
     ]
    }
   ],
   "source": [
    "k = 3\n",
    "n = 5\n",
    "\n",
    "p_k = (math.factorial(n) / (math.factorial(k) * math.factorial(n - k))) / 2 ** n \n",
    "\n",
    "print(f'Вероятность {k} успехов для {n} испытаний равна {p_k}')"
   ]
  },
  {
   "cell_type": "markdown",
   "metadata": {},
   "source": [
    "#### 4."
   ]
  },
  {
   "cell_type": "markdown",
   "metadata": {},
   "source": [
    "Из урока по комбинаторике повторите расчеты, сгенерировав возможные варианты перестановок для других значений n и k"
   ]
  },
  {
   "cell_type": "code",
   "execution_count": 8,
   "metadata": {
    "scrolled": true
   },
   "outputs": [
    {
     "name": "stdout",
     "output_type": "stream",
     "text": [
      "abcd\n",
      "abce\n",
      "abcf\n",
      "abdc\n",
      "abde\n",
      "abdf\n",
      "abec\n",
      "abed\n",
      "abef\n",
      "abfc\n",
      "abfd\n",
      "abfe\n",
      "acbd\n",
      "acbe\n",
      "acbf\n",
      "acdb\n",
      "acde\n",
      "acdf\n",
      "aceb\n",
      "aced\n",
      "acef\n",
      "acfb\n",
      "acfd\n",
      "acfe\n",
      "adbc\n",
      "adbe\n",
      "adbf\n",
      "adcb\n",
      "adce\n",
      "adcf\n",
      "adeb\n",
      "adec\n",
      "adef\n",
      "adfb\n",
      "adfc\n",
      "adfe\n",
      "aebc\n",
      "aebd\n",
      "aebf\n",
      "aecb\n",
      "aecd\n",
      "aecf\n",
      "aedb\n",
      "aedc\n",
      "aedf\n",
      "aefb\n",
      "aefc\n",
      "aefd\n",
      "afbc\n",
      "afbd\n",
      "afbe\n",
      "afcb\n",
      "afcd\n",
      "afce\n",
      "afdb\n",
      "afdc\n",
      "afde\n",
      "afeb\n",
      "afec\n",
      "afed\n",
      "bacd\n",
      "bace\n",
      "bacf\n",
      "badc\n",
      "bade\n",
      "badf\n",
      "baec\n",
      "baed\n",
      "baef\n",
      "bafc\n",
      "bafd\n",
      "bafe\n",
      "bcad\n",
      "bcae\n",
      "bcaf\n",
      "bcda\n",
      "bcde\n",
      "bcdf\n",
      "bcea\n",
      "bced\n",
      "bcef\n",
      "bcfa\n",
      "bcfd\n",
      "bcfe\n",
      "bdac\n",
      "bdae\n",
      "bdaf\n",
      "bdca\n",
      "bdce\n",
      "bdcf\n",
      "bdea\n",
      "bdec\n",
      "bdef\n",
      "bdfa\n",
      "bdfc\n",
      "bdfe\n",
      "beac\n",
      "bead\n",
      "beaf\n",
      "beca\n",
      "becd\n",
      "becf\n",
      "beda\n",
      "bedc\n",
      "bedf\n",
      "befa\n",
      "befc\n",
      "befd\n",
      "bfac\n",
      "bfad\n",
      "bfae\n",
      "bfca\n",
      "bfcd\n",
      "bfce\n",
      "bfda\n",
      "bfdc\n",
      "bfde\n",
      "bfea\n",
      "bfec\n",
      "bfed\n",
      "cabd\n",
      "cabe\n",
      "cabf\n",
      "cadb\n",
      "cade\n",
      "cadf\n",
      "caeb\n",
      "caed\n",
      "caef\n",
      "cafb\n",
      "cafd\n",
      "cafe\n",
      "cbad\n",
      "cbae\n",
      "cbaf\n",
      "cbda\n",
      "cbde\n",
      "cbdf\n",
      "cbea\n",
      "cbed\n",
      "cbef\n",
      "cbfa\n",
      "cbfd\n",
      "cbfe\n",
      "cdab\n",
      "cdae\n",
      "cdaf\n",
      "cdba\n",
      "cdbe\n",
      "cdbf\n",
      "cdea\n",
      "cdeb\n",
      "cdef\n",
      "cdfa\n",
      "cdfb\n",
      "cdfe\n",
      "ceab\n",
      "cead\n",
      "ceaf\n",
      "ceba\n",
      "cebd\n",
      "cebf\n",
      "ceda\n",
      "cedb\n",
      "cedf\n",
      "cefa\n",
      "cefb\n",
      "cefd\n",
      "cfab\n",
      "cfad\n",
      "cfae\n",
      "cfba\n",
      "cfbd\n",
      "cfbe\n",
      "cfda\n",
      "cfdb\n",
      "cfde\n",
      "cfea\n",
      "cfeb\n",
      "cfed\n",
      "dabc\n",
      "dabe\n",
      "dabf\n",
      "dacb\n",
      "dace\n",
      "dacf\n",
      "daeb\n",
      "daec\n",
      "daef\n",
      "dafb\n",
      "dafc\n",
      "dafe\n",
      "dbac\n",
      "dbae\n",
      "dbaf\n",
      "dbca\n",
      "dbce\n",
      "dbcf\n",
      "dbea\n",
      "dbec\n",
      "dbef\n",
      "dbfa\n",
      "dbfc\n",
      "dbfe\n",
      "dcab\n",
      "dcae\n",
      "dcaf\n",
      "dcba\n",
      "dcbe\n",
      "dcbf\n",
      "dcea\n",
      "dceb\n",
      "dcef\n",
      "dcfa\n",
      "dcfb\n",
      "dcfe\n",
      "deab\n",
      "deac\n",
      "deaf\n",
      "deba\n",
      "debc\n",
      "debf\n",
      "deca\n",
      "decb\n",
      "decf\n",
      "defa\n",
      "defb\n",
      "defc\n",
      "dfab\n",
      "dfac\n",
      "dfae\n",
      "dfba\n",
      "dfbc\n",
      "dfbe\n",
      "dfca\n",
      "dfcb\n",
      "dfce\n",
      "dfea\n",
      "dfeb\n",
      "dfec\n",
      "eabc\n",
      "eabd\n",
      "eabf\n",
      "eacb\n",
      "eacd\n",
      "eacf\n",
      "eadb\n",
      "eadc\n",
      "eadf\n",
      "eafb\n",
      "eafc\n",
      "eafd\n",
      "ebac\n",
      "ebad\n",
      "ebaf\n",
      "ebca\n",
      "ebcd\n",
      "ebcf\n",
      "ebda\n",
      "ebdc\n",
      "ebdf\n",
      "ebfa\n",
      "ebfc\n",
      "ebfd\n",
      "ecab\n",
      "ecad\n",
      "ecaf\n",
      "ecba\n",
      "ecbd\n",
      "ecbf\n",
      "ecda\n",
      "ecdb\n",
      "ecdf\n",
      "ecfa\n",
      "ecfb\n",
      "ecfd\n",
      "edab\n",
      "edac\n",
      "edaf\n",
      "edba\n",
      "edbc\n",
      "edbf\n",
      "edca\n",
      "edcb\n",
      "edcf\n",
      "edfa\n",
      "edfb\n",
      "edfc\n",
      "efab\n",
      "efac\n",
      "efad\n",
      "efba\n",
      "efbc\n",
      "efbd\n",
      "efca\n",
      "efcb\n",
      "efcd\n",
      "efda\n",
      "efdb\n",
      "efdc\n",
      "fabc\n",
      "fabd\n",
      "fabe\n",
      "facb\n",
      "facd\n",
      "face\n",
      "fadb\n",
      "fadc\n",
      "fade\n",
      "faeb\n",
      "faec\n",
      "faed\n",
      "fbac\n",
      "fbad\n",
      "fbae\n",
      "fbca\n",
      "fbcd\n",
      "fbce\n",
      "fbda\n",
      "fbdc\n",
      "fbde\n",
      "fbea\n",
      "fbec\n",
      "fbed\n",
      "fcab\n",
      "fcad\n",
      "fcae\n",
      "fcba\n",
      "fcbd\n",
      "fcbe\n",
      "fcda\n",
      "fcdb\n",
      "fcde\n",
      "fcea\n",
      "fceb\n",
      "fced\n",
      "fdab\n",
      "fdac\n",
      "fdae\n",
      "fdba\n",
      "fdbc\n",
      "fdbe\n",
      "fdca\n",
      "fdcb\n",
      "fdce\n",
      "fdea\n",
      "fdeb\n",
      "fdec\n",
      "feab\n",
      "feac\n",
      "fead\n",
      "feba\n",
      "febc\n",
      "febd\n",
      "feca\n",
      "fecb\n",
      "fecd\n",
      "feda\n",
      "fedb\n",
      "fedc\n"
     ]
    }
   ],
   "source": [
    "import itertools\n",
    "\n",
    "for p in itertools.permutations(\"abcdef\",4):\n",
    "    print(''.join(str(x) for x in p))"
   ]
  },
  {
   "cell_type": "code",
   "execution_count": 9,
   "metadata": {},
   "outputs": [
    {
     "name": "stdout",
     "output_type": "stream",
     "text": [
      "abcd\n",
      "abce\n",
      "abcf\n",
      "abde\n",
      "abdf\n",
      "abef\n",
      "acde\n",
      "acdf\n",
      "acef\n",
      "adef\n",
      "bcde\n",
      "bcdf\n",
      "bcef\n",
      "bdef\n",
      "cdef\n"
     ]
    }
   ],
   "source": [
    "for p in itertools.combinations(\"abcdef\",4):\n",
    "    print(''.join(p))"
   ]
  },
  {
   "cell_type": "markdown",
   "metadata": {},
   "source": [
    "#### 5."
   ]
  },
  {
   "cell_type": "markdown",
   "metadata": {},
   "source": [
    "Дополните код расчетом коэффициента корреляции x и y по формуле"
   ]
  },
  {
   "cell_type": "code",
   "execution_count": 10,
   "metadata": {},
   "outputs": [
    {
     "name": "stdout",
     "output_type": "stream",
     "text": [
      "0.6908270973120724 0.14677677603858896\n",
      "0.6908270973120728 0.1467767760385887\n"
     ]
    },
    {
     "name": "stderr",
     "output_type": "stream",
     "text": [
      "<ipython-input-10-0e01cd388ac2>:14: FutureWarning: `rcond` parameter will change to the default of machine precision times ``max(M, N)`` where M and N are the input matrix dimensions.\n",
      "To use the future default and silence this warning we advise to pass `rcond=None`, to keep using the old, explicitly pass `rcond=-1`.\n",
      "  a1, b1 = np.linalg.lstsq(A, y)[0]\n"
     ]
    },
    {
     "data": {
      "image/png": "[encoded data removed]",
      "text/plain": [
       "<Figure size 432x288 with 1 Axes>"
      ]
     },
     "metadata": {
      "needs_background": "light"
     },
     "output_type": "display_data"
    }
   ],
   "source": [
    "n = 100\n",
    "r = 0.7\n",
    "x = np.random.rand(n)\n",
    "y = r*x + (1 - r)*np.random.rand(n)\n",
    "plt.plot(x, y, 'o')\n",
    "plt.xlabel('x')\n",
    "plt.ylabel('y')\n",
    "plt.grid(True)\n",
    "\n",
    "a = (np.sum(x)*np.sum(y) - n*np.sum(x*y))/(np.sum(x)*np.sum(x) - n*np.sum(x*x))\n",
    "b = (np.sum(y) - a*np.sum(x))/n\n",
    "\n",
    "A = np.vstack([x, np.ones(len(x))]).T\n",
    "a1, b1 = np.linalg.lstsq(A, y)[0]\n",
    "print(a, b)\n",
    "print(a1, b1)\n",
    "plt.plot([0, 1], [b, a + b])\n",
    "plt.show()"
   ]
  },
  {
   "cell_type": "code",
   "execution_count": null,
   "metadata": {},
   "outputs": [],
   "source": []
  }
 ],
 "metadata": {
  "kernelspec": {
   "display_name": "Python 3",
   "language": "python",
   "name": "python3"
  },
  "language_info": {
   "codemirror_mode": {
    "name": "ipython",
    "version": 3
   },
   "file_extension": ".py",
   "mimetype": "text/x-python",
   "name": "python",
   "nbconvert_exporter": "python",
   "pygments_lexer": "ipython3",
   "version": "3.8.3"
  }
 },
 "nbformat": 4,
 "nbformat_minor": 4
}
