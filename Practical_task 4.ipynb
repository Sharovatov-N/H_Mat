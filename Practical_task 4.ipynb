{
 "cells": [
  {
   "cell_type": "markdown",
   "metadata": {},
   "source": [
    "### Практические задания к уроку 4"
   ]
  },
  {
   "cell_type": "markdown",
   "metadata": {},
   "source": [
    "#### 1. Задание"
   ]
  },
  {
   "cell_type": "markdown",
   "metadata": {},
   "source": [
    "Решите уравнение \n",
    "sin(x)/x=0.\n"
   ]
  },
  {
   "cell_type": "markdown",
   "metadata": {},
   "source": [
    "x = n*pi, где n любое целое число"
   ]
  },
  {
   "cell_type": "markdown",
   "metadata": {},
   "source": [
    "#### 2. Задание"
   ]
  },
  {
   "cell_type": "markdown",
   "metadata": {},
   "source": [
    "Даны три прямые y=k1\\*x+b1, y=k2\\*x+b2, y=k3\\*x+b3. Как узнать, пересекаются они в одной точке или нет?"
   ]
  },
  {
   "cell_type": "markdown",
   "metadata": {},
   "source": [
    "Прямые пересекаются в точке M(x<sub>0</sub>,y<sub>0</sub>) если выполняется условие:\n",
    "\n",
    "(b1 = y<sub>0</sub> - k1x<sub>0</sub>) ^ (b2 = y<sub>0</sub> - k2x<sub>0</sub>) ^ (b3 = y<sub>0</sub> - k3x<sub>0</sub>)"
   ]
  },
  {
   "cell_type": "markdown",
   "metadata": {},
   "source": [
    "#### 3. Задание"
   ]
  },
  {
   "cell_type": "markdown",
   "metadata": {},
   "source": [
    "На листе тетради «в линейку» (расстояние между линиями равно а) лежит игла (длиной b). Координаты нижней точки иглы (х,у), игла лежит под углом alfa. Пересекает ли игла линию или нет?"
   ]
  },
  {
   "cell_type": "markdown",
   "metadata": {},
   "source": [
    "Если \"линейка\" вертикальная (x = k):<br>\n",
    "b >= (a - x % a)/cos(alfa)\n",
    "\n",
    "Если \"линейка\" горизонтальная (y = k):<br>\n",
    "b >= (a - y % a)/sin(alfa)"
   ]
  },
  {
   "cell_type": "markdown",
   "metadata": {},
   "source": [
    "#### 4. Задание \\**"
   ]
  },
  {
   "cell_type": "markdown",
   "metadata": {},
   "source": [
    "Решите аналитически и потом численно (в программе) уравнение, зависящее от параметра а: \n",
    "sin(а*x)=0\n",
    "при условии: 0.01<a<0.02, 100<х<500.\n",
    "Т.е. надо найти решение х как функцию параметра а - построить график x=x(а).\n",
    "Если численным методом не получается найти все ветви решения x(а), то отыщите хотя бы одну.\n"
   ]
  },
  {
   "cell_type": "markdown",
   "metadata": {},
   "source": [
    "#### 5. Задание"
   ]
  },
  {
   "cell_type": "markdown",
   "metadata": {},
   "source": [
    "Найти угол между прямыми:"
   ]
  },
  {
   "cell_type": "markdown",
   "metadata": {},
   "source": [
    "* 4y - 3x + 12 = 0 и 7y + x - 14 = 0"
   ]
  },
  {
   "cell_type": "markdown",
   "metadata": {},
   "source": [
    "tg(a) = (7*(-3) - 4\\*1)/4\\*7 + (-3)\\*1 = -25/25 = -1 ==> a = 135<sup>o</sup>"
   ]
  },
  {
   "cell_type": "markdown",
   "metadata": {},
   "source": [
    "* x = 2<sup>1/2</sup> и x = -3<sup>1/2</sup>"
   ]
  },
  {
   "cell_type": "markdown",
   "metadata": {},
   "source": [
    "Прямые паралельные X||X"
   ]
  },
  {
   "cell_type": "markdown",
   "metadata": {},
   "source": [
    "#### 6. Задание"
   ]
  },
  {
   "cell_type": "markdown",
   "metadata": {},
   "source": [
    "Выяснить тип кривых второго порядка, порожденных следующими уравнениями:"
   ]
  },
  {
   "cell_type": "markdown",
   "metadata": {},
   "source": [
    "* y<sup>2</sup> - 2x - 2y = 0"
   ]
  },
  {
   "cell_type": "markdown",
   "metadata": {},
   "source": [
    "y<sup>2</sup> - 2y = y<sup>2</sup> - 2y + 1 - 1 = (y - 1)<sup>2</sup> - 1 ==> (y - 1)<sup>2</sup> - 1 - 2x = 0 ==> (y - 1) = (2x - 1)<sup>1/2</sup>\n",
    "\n",
    "Это уравнение представляет собой одну из ветвей параболы "
   ]
  },
  {
   "cell_type": "markdown",
   "metadata": {},
   "source": [
    "* 3x<sup>2</sup> + 5y<sup>2</sup> + 12x - 30y + 42 = 0"
   ]
  },
  {
   "cell_type": "markdown",
   "metadata": {},
   "source": [
    "Приведя уравнение мы получим ((y - 3)<sup>2</sup>)/3 + ((x + 2)<sup>2</sup>)/5 = 1 \n",
    "\n",
    "Это эллипс с центром (2;-3)"
   ]
  },
  {
   "cell_type": "markdown",
   "metadata": {},
   "source": [
    "* 2x<sup>2</sup> - y<sup>2</sup> + 6y - 7 = 0"
   ]
  },
  {
   "cell_type": "markdown",
   "metadata": {},
   "source": [
    "Приведя уравнение мы получим ((y + 3)<sup>2</sup>)/16 + ((x + 0)<sup>2</sup>)/8 = 1 \n",
    "\n",
    "Это эллипс с центром (0;3)"
   ]
  },
  {
   "cell_type": "markdown",
   "metadata": {},
   "source": [
    "* 2x<sup>2</sup> - 3y<sup>2</sup> - 28x - 42y - 55 = 0"
   ]
  },
  {
   "cell_type": "markdown",
   "metadata": {},
   "source": [
    "Это гипербола"
   ]
  },
  {
   "cell_type": "code",
   "execution_count": null,
   "metadata": {},
   "outputs": [],
   "source": []
  }
 ],
 "metadata": {
  "kernelspec": {
   "display_name": "Python 3",
   "language": "python",
   "name": "python3"
  },
  "language_info": {
   "codemirror_mode": {
    "name": "ipython",
    "version": 3
   },
   "file_extension": ".py",
   "mimetype": "text/x-python",
   "name": "python",
   "nbconvert_exporter": "python",
   "pygments_lexer": "ipython3",
   "version": "3.8.3"
  }
 },
 "nbformat": 4,
 "nbformat_minor": 4
}
